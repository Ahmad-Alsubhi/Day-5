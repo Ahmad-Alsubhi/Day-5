{
 "cells": [
  {
   "cell_type": "markdown",
   "metadata": {},
   "source": [
    "# Python_Lab_3\n"
   ]
  },
  {
   "cell_type": "markdown",
   "metadata": {},
   "source": [
    "### Task 1\n",
    "- Write a function named **'create_student_records'** that takes a list of tuples. Each tuple contains a student's name and their scores in three subjects. The function should return a list of dictionaries, where each dictionary represents a student with keys: name, subject1, subject2, subject3. Use list comprehension to create the list of dictionaries."
   ]
  },
  {
   "cell_type": "code",
   "execution_count": 1,
   "metadata": {},
   "outputs": [
    {
     "name": "stdout",
     "output_type": "stream",
     "text": [
      "[{'name': 'ali', 'math': 82, 'OS': 82, 'Network': 74}, {'name': 'omar', 'math': 90, 'OS': 70, 'Network': 99}, {'name': 'ahmad', 'math': 80, 'OS': 90, 'Network': 77}]\n"
     ]
    }
   ],
   "source": [
    "def create_student_records(student_total):\n",
    "    return[{\n",
    "        'name':student[0],\n",
    "        'math':student[1],\n",
    "        'OS':student[2],\n",
    "        'Network':student[3]\n",
    "    } for student in student_total]\n",
    "\n",
    "students=[\n",
    "    ('ali', 82 , 82 , 74),\n",
    "    ('omar', 90 , 70 , 99),\n",
    "    ('ahmad', 80 , 90 , 77)\n",
    "]\n",
    "student_records = create_student_records(students)\n",
    "print(student_records)"
   ]
  },
  {
   "cell_type": "markdown",
   "metadata": {},
   "source": [
    "### Task 2\n",
    "- Write a function named **'filter_and_sort_students'** that takes the list of dictionaries from Question 1 and returns a sorted list of student names who have an average score of 80 or more across all subjects. Sort the names in alphabetical order."
   ]
  },
  {
   "cell_type": "code",
   "execution_count": 2,
   "metadata": {},
   "outputs": [
    {
     "name": "stdout",
     "output_type": "stream",
     "text": [
      "['ahmad', 'omar']\n"
     ]
    }
   ],
   "source": [
    "def filter_and_sort_students(student_records):\n",
    "    return sorted([student['name'] for student in student_records\n",
    "    if (student[f\"math\"] + student[f\"OS\"] + student[f\"Network\"]) /3 >= 80])\n",
    "\n",
    "\n",
    "sort_and_average = filter_and_sort_students(student_records)\n",
    "print(sort_and_average)\n"
   ]
  },
  {
   "cell_type": "markdown",
   "metadata": {},
   "source": [
    "### Task 3\n",
    "- Write a function named **'get_product_info'** that prompts the user to enter information about a product. The function should ask for the product name, product price, and product quantity. If the user enters an invalid input (e.g., a non-numeric value for the price or quantity), the function should handle the error and prompt the user to enter the value again. Return a dictionary containing the product information."
   ]
  },
  {
   "cell_type": "code",
   "execution_count": 4,
   "metadata": {},
   "outputs": [
    {
     "name": "stdout",
     "output_type": "stream",
     "text": [
      "Enter the product name: pepsi\n",
      "Enter the product price  2.5\n",
      "Enter the product quantity 10\n",
      "{'name': 'pepsi', 'price': 2.5, 'quantity': 10}\n"
     ]
    }
   ],
   "source": [
    "def get_product_info():\n",
    "    product = {}\n",
    "    \n",
    "    product['name'] = input(\"Enter the product name: \")\n",
    "    \n",
    "    while True:\n",
    "        try:\n",
    "            product['price'] = float(input(\"Enter the product price  \"))\n",
    "            break\n",
    "        except :\n",
    "            print(\"Invalid input. Please enter a numeric value for price. :) \")\n",
    "    \n",
    "    while True:\n",
    "        try:\n",
    "            product['quantity'] = int(input(\"Enter the product quantity \"))\n",
    "            break\n",
    "        except:\n",
    "            print(\"Invalid input. Please enter an integer value for quantity. :) \")\n",
    "    \n",
    "    return product\n",
    "\n",
    "product_info = get_product_info()\n",
    "print(product_info)"
   ]
  },
  {
   "cell_type": "markdown",
   "metadata": {},
   "source": [
    "### Task 4\n",
    "- Write a function named **'get_even_numbers'** that takes a list of integers and returns a list of even numbers using list comprehension."
   ]
  },
  {
   "cell_type": "code",
   "execution_count": 16,
   "metadata": {},
   "outputs": [
    {
     "name": "stdout",
     "output_type": "stream",
     "text": [
      "[2, 4, 6, 8, 10]\n"
     ]
    }
   ],
   "source": [
    "def get_even_numbers(numbers):\n",
    "    return [num for num in numbers if num % 2 == 0 ]\n",
    "numbers= [1,2,3,4,5,6,7,8,9,10]\n",
    "even = get_even_numbers(numbers)\n",
    "print(even)"
   ]
  },
  {
   "cell_type": "markdown",
   "metadata": {},
   "source": [
    "### Task 5\n",
    "- Write a function named **'pair_elements'** that takes two lists of equal length as parameters and returns a list of tuples, where each tuple contains corresponding elements from the two lists. Use the zip function to achieve this."
   ]
  },
  {
   "cell_type": "markdown",
   "metadata": {},
   "source": []
  },
  {
   "cell_type": "code",
   "execution_count": 24,
   "metadata": {},
   "outputs": [
    {
     "name": "stdout",
     "output_type": "stream",
     "text": [
      "[(1, 'ahamd'), (2, 'omar'), (3, 'ali')]\n"
     ]
    }
   ],
   "source": [
    "def pair_elements(list1,list2):\n",
    "    return list(zip(list1,list2))\n",
    "\n",
    "number = [1,2,3]\n",
    "name = [\"ahamd\",\"omar\",\"ali\"]\n",
    "print(pair_elements(number, name))"
   ]
  },
  {
   "cell_type": "markdown",
   "metadata": {},
   "source": [
    "### Task 6\n",
    "- Write a function named **'square_dict_lambda'** that takes a list of integers and returns a dictionary where the keys are the integers and the values are their squares. Use a lambda function within a dictionary comprehension to achieve this."
   ]
  },
  {
   "cell_type": "code",
   "execution_count": 29,
   "metadata": {},
   "outputs": [
    {
     "name": "stdout",
     "output_type": "stream",
     "text": [
      "{1: 1, 2: 4, 3: 9, 4: 16, 5: 25}\n"
     ]
    }
   ],
   "source": [
    "def square_dict_lambda(numbers):\n",
    "    return {num: (lambda x: x**2)(num) for num in numbers}\n",
    "\n",
    "\n",
    "numbers = [1,2,3,4,5]\n",
    "square = square_dict_lambda(numbers)\n",
    "print(square)\n",
    "    "
   ]
  }
 ],
 "metadata": {
  "kernelspec": {
   "display_name": "Python 3 (ipykernel)",
   "language": "python",
   "name": "python3"
  },
  "language_info": {
   "codemirror_mode": {
    "name": "ipython",
    "version": 3
   },
   "file_extension": ".py",
   "mimetype": "text/x-python",
   "name": "python",
   "nbconvert_exporter": "python",
   "pygments_lexer": "ipython3",
   "version": "3.10.9"
  }
 },
 "nbformat": 4,
 "nbformat_minor": 2
}
