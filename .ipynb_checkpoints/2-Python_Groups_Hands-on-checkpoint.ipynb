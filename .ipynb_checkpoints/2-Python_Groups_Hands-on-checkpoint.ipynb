{
 "cells": [
  {
   "cell_type": "markdown",
   "metadata": {
    "id": "kZXiW0-J0-2x"
   },
   "source": [
    "# Python_Groups_Hands-on\n"
   ]
  },
  {
   "cell_type": "markdown",
   "metadata": {
    "id": "I05A6_S80-2y"
   },
   "source": [
    "## Project: Library Management System\n",
    "### Description:\n",
    "- Develop a basic Library Management System (LMS) that allows users to manage book records, including adding, updating, deleting, and displaying book information. The system should also provide basic statistical analysis.\n",
    "\n",
    "### System requirements:\n",
    "\n",
    "#### Data Structure Design:\n",
    "\n",
    "  - Define data structures using lists, tuples, dictionaries, and sets to store book information (e.g., book ID, title, author, year, genres).\n",
    "\n",
    "#### Basic Operations:\n",
    "\n",
    "- Implement functions to add, update, delete, and display book records.\n",
    "- Ensure proper type conversion and validation of inputs.\n",
    "\n",
    "#### Statistical Analysis:\n",
    "\n",
    "- Write functions to calculate and display the total number of books, the average publication year, and the most common genre.\n",
    "- Use list comprehensions and built-in functions (sort, len, zip, range) for calculations.\n",
    "\n",
    "#### Advanced Features:\n",
    "\n",
    "- Implement search functionality to find books by title or author using lambda functions.\n",
    "- Provide sorting options for book records based on different criteria (e.g., title, year).\n",
    "\n",
    "\n",
    "#### Exception Handling:\n",
    "\n",
    "- Handle potential errors (e.g., invalid input) using try-except blocks."
   ]
  },
  {
   "cell_type": "markdown",
   "metadata": {
    "id": "rXuH9y0_D76o"
   },
   "source": [
    "#### Q1: Using the following table, create a function to add these books to your library:\n",
    "\n",
    "\n",
    "\n",
    "| Book ID | Title                            | Author               | Year | Genres                              |\n",
    "|---------|----------------------------------|----------------------|------|-------------------------------------|\n",
    "| 1       | Harry Potter and the Sorcerer's Stone | J.K. Rowling         | 1997 | Fantasy, Young Adult                |\n",
    "| 2       | To Kill a Mockingbird             | Harper Lee           | 1960 | Fiction, Classics                   |\n",
    "| 3       | The Great Gatsby                  | F. Scott Fitzgerald  | 1925 | Fiction, Classics                   |\n",
    "| 4       | 1984                              | George Orwell        | 1949 | Fiction, Dystopian                  |\n",
    "| 5       | The Catcher in the Rye            | J.D. Salinger        | 1951 | Fiction, Classics                   |\n",
    "| 6       | Pride and Prejudice               | Jane Austen          | 1813 | Fiction, Romance, Classics          |\n",
    "| 7       | The Hobbit                        | J.R.R. Tolkien       | 1937 | Fantasy, Adventure                  |\n",
    "| 8       | The Hunger Games                  | Suzanne Collins      | 2008 | Science Fiction, Dystopian, Young Adult |\n",
    "| 9       | The Da Vinci Code                 | Dan Brown            | 2003 | Mystery, Thriller                   |\n",
    "| 10      | The Chronicles of Narnia          | C.S. Lewis           | 1950 | Fantasy, Children's Literature      |\n",
    "| 11      | Gone with the Wind                | Margaret Mitchell    | 1936 | Historical Fiction, Romance         |\n",
    "| 12      | Sapiens: A Brief History of Humankind | Yuval Noah Harari   | 2011 | Nonfiction, History, Science        |\n",
    "| 13      | The Road                          | Cormac McCarthy      | 2006 | Fiction, Post-Apocalyptic           |\n",
    "| 14      | The Girl with the Dragon Tattoo   | Stieg Larsson        | 2005 | Mystery, Thriller                   |\n",
    "| 15      | The Alchemist                     | Paulo Coelho         | 1988 | Fiction, Inspirational              |\n"
   ]
  },
  {
   "cell_type": "code",
   "execution_count": 23,
   "metadata": {
    "id": "BzV_B_g20-2z"
   },
   "outputs": [
    {
     "name": "stdout",
     "output_type": "stream",
     "text": [
      "{1: {'Title': \"Harry Potter and the Sorcerer's Stone\", 'Author': 'J.K. Rowling', 'Years': '1997', 'Genres': 'Fantasy, Young Adult'}, 2: {'Title': 'To Kill a Mockingbird', 'Author': 'Harper Lee', 'Years': '1960', 'Genres': 'Fiction, Classics'}, 3: {'Title': 'The Great Gatsby', 'Author': 'F. Scott Fitzgerald', 'Years': '1925', 'Genres': 'Fiction, Classics'}, 4: {'Title': '1984', 'Author': 'George Orwell', 'Years': '1949', 'Genres': 'Fiction, Dystopian'}, 5: {'Title': 'The Catcher in the Rye', 'Author': 'J.D. Salinger', 'Years': '1951', 'Genres': 'Fiction, Classics'}, 6: {'Title': 'Pride and Prejudice', 'Author': 'Jane Austen', 'Years': '1813', 'Genres': 'Fiction, Romance, Classics'}, 7: {'Title': 'The Hobbit', 'Author': 'J.R.R. Tolkien', 'Years': '1937', 'Genres': 'Fantasy, Adventure'}, 8: {'Title': 'The Hunger Games', 'Author': 'Suzanne Collins', 'Years': '2008', 'Genres': 'Science Fiction, Dystopian, Young Adult'}, 9: {'Title': 'The Da Vinci Code', 'Author': 'Dan Brown', 'Years': '2003', 'Genres': 'Mystery, Thriller'}, 10: {'Title': 'The Chronicles of Narnia', 'Author': 'C.S. Lewis', 'Years': '1950', 'Genres': \"Fantasy, Children's Literature\"}, 11: {'Title': 'Gone with the Wind', 'Author': 'Margaret Mitchell', 'Years': '1936', 'Genres': 'Historical Fiction, Romance'}, 12: {'Title': 'Sapiens: A Brief History of Humankind', 'Author': 'Yuval Noah Harari', 'Years': '2011', 'Genres': 'Nonfiction, History, Science'}, 13: {'Title': 'The Road', 'Author': 'Cormac McCarthy', 'Years': '2006', 'Genres': 'Fiction, Post-Apocalyptic'}, 14: {'Title': 'The Girl with the Dragon Tattoo', 'Author': 'Stieg Larsson', 'Years': '2005', 'Genres': 'Mystery, Thriller'}, 15: {'Title': 'The Alchemist', 'Author': 'Paulo Coelho', 'Years': '1988', 'Genres': 'Fiction, Inspirational'}}\n"
     ]
    }
   ],
   "source": [
    "dict_of_book = {}\n",
    "\n",
    "def add_books(book_id, title, author, years, genres):\n",
    "    dict_of_book[book_id] = {\n",
    "        \"Title\": title,\n",
    "        \"Author\": author,\n",
    "        \"Years\": years,\n",
    "        \"Genres\": genres\n",
    "    }\n",
    "\n",
    "add_books(1, \"Harry Potter and the Sorcerer's Stone\", \"J.K. Rowling\", \"1997\", \"Fantasy, Young Adult\")\n",
    "add_books(2, \"To Kill a Mockingbird\", \"Harper Lee\", \"1960\", \"Fiction, Classics\")\n",
    "add_books(3, \"The Great Gatsby\", \"F. Scott Fitzgerald\", \"1925\", \"Fiction, Classics\")\n",
    "add_books(4, \"1984\", \"George Orwell\", \"1949\", \"Fiction, Dystopian\")\n",
    "add_books(5, \"The Catcher in the Rye\", \"J.D. Salinger\", \"1951\", \"Fiction, Classics\")\n",
    "add_books(6, \"Pride and Prejudice\", \"Jane Austen\", \"1813\", \"Fiction, Romance, Classics\")\n",
    "add_books(7, \"The Hobbit\", \"J.R.R. Tolkien\", \"1937\", \"Fantasy, Adventure\")\n",
    "add_books(8, \"The Hunger Games\", \"Suzanne Collins\", \"2008\", \"Science Fiction, Dystopian, Young Adult\")\n",
    "add_books(9, \"The Da Vinci Code\", \"Dan Brown\", \"2003\", \"Mystery, Thriller\")\n",
    "add_books(10, \"The Chronicles of Narnia\", \"C.S. Lewis\", \"1950\", \"Fantasy, Children's Literature\")\n",
    "add_books(11, \"Gone with the Wind\", \"Margaret Mitchell\", \"1936\", \"Historical Fiction, Romance\")\n",
    "add_books(12, \"Sapiens: A Brief History of Humankind\", \"Yuval Noah Harari\", \"2011\", \"Nonfiction, History, Science\")\n",
    "add_books(13, \"The Road\", \"Cormac McCarthy\", \"2006\", \"Fiction, Post-Apocalyptic\")\n",
    "add_books(14, \"The Girl with the Dragon Tattoo\", \"Stieg Larsson\", \"2005\", \"Mystery, Thriller\")\n",
    "add_books(15, \"The Alchemist\", \"Paulo Coelho\", \"1988\", \"Fiction, Inspirational\")\n",
    "\n",
    "print(dict_of_book)\n"
   ]
  },
  {
   "cell_type": "markdown",
   "metadata": {
    "id": "kR5bvgOsF3oJ"
   },
   "source": [
    "#### Q2: Create a function that updates books exsisted in your library and test it.\n",
    "- **Note**: If the user entered wrong book ID it should print \"Book with ID 'num' does not exist."
   ]
  },
  {
   "cell_type": "code",
   "execution_count": 24,
   "metadata": {
    "id": "U60cFkbUUYmj"
   },
   "outputs": [
    {
     "name": "stdout",
     "output_type": "stream",
     "text": [
      "{1: {'Title': 'Harry Potter and the Chamber of Secrets', 'Author': 'J.K. Rowling', 'Years': '1999', 'Genres': 'Fantasy, Young Adult'}, 2: {'Title': 'To Kill a Mockingbird', 'Author': 'Harper Lee', 'Years': '1960', 'Genres': 'Fiction, Classics'}, 3: {'Title': 'The Great Gatsby', 'Author': 'F. Scott Fitzgerald', 'Years': '1925', 'Genres': 'Fiction, Classics'}, 4: {'Title': '1984', 'Author': 'George Orwell', 'Years': '1949', 'Genres': 'Fiction, Dystopian'}, 5: {'Title': 'The Catcher in the Rye', 'Author': 'J.D. Salinger', 'Years': '1951', 'Genres': 'Fiction, Classics'}, 6: {'Title': 'Pride and Prejudice', 'Author': 'Jane Austen', 'Years': '1813', 'Genres': 'Fiction, Romance, Classics'}, 7: {'Title': 'The Hobbit', 'Author': 'J.R.R. Tolkien', 'Years': '1937', 'Genres': 'Fantasy, Adventure'}, 8: {'Title': 'The Hunger Games', 'Author': 'Suzanne Collins', 'Years': '2008', 'Genres': 'Science Fiction, Dystopian, Young Adult'}, 9: {'Title': 'The Da Vinci Code', 'Author': 'Dan Brown', 'Years': '2003', 'Genres': 'Mystery, Thriller'}, 10: {'Title': 'The Chronicles of Narnia', 'Author': 'C.S. Lewis', 'Years': '1950', 'Genres': \"Fantasy, Children's Literature\"}, 11: {'Title': 'Gone with the Wind', 'Author': 'Margaret Mitchell', 'Years': '1936', 'Genres': 'Historical Fiction, Romance'}, 12: {'Title': 'Sapiens: A Brief History of Humankind', 'Author': 'Yuval Noah Harari', 'Years': '2011', 'Genres': 'Nonfiction, History, Science'}, 13: {'Title': 'The Road', 'Author': 'Cormac McCarthy', 'Years': '2006', 'Genres': 'Fiction, Post-Apocalyptic'}, 14: {'Title': 'The Girl with the Dragon Tattoo', 'Author': 'Stieg Larsson', 'Years': '2005', 'Genres': 'Mystery, Thriller'}, 15: {'Title': 'The Alchemist', 'Author': 'Paulo Coelho', 'Years': '1988', 'Genres': 'Fiction, Inspirational'}}\n"
     ]
    }
   ],
   "source": [
    "def update_books(book_id, new_book_info):\n",
    "    if book_id in dict_of_book:\n",
    "        dict_of_book[book_id].update(new_book_info)\n",
    "    else:\n",
    "        print(f\"Book with ID {book_id} does not exist\")\n",
    "\n",
    "\n",
    "update_books(1, {\"Title\": \"Harry Potter and the Chamber of Secrets\", \"Years\": \"1999\"})\n",
    "print(dict_of_book)"
   ]
  },
  {
   "cell_type": "markdown",
   "metadata": {
    "id": "ME3j_m-eLhyH"
   },
   "source": [
    "#### Q3: Create a function to delete books from your library and test it."
   ]
  },
  {
   "cell_type": "code",
   "execution_count": 25,
   "metadata": {
    "id": "JlGIx-gJUadK"
   },
   "outputs": [
    {
     "name": "stdout",
     "output_type": "stream",
     "text": [
      "Enter the Book ID: 2\n",
      "{1: {'Title': 'Harry Potter and the Chamber of Secrets', 'Author': 'J.K. Rowling', 'Years': '1999', 'Genres': 'Fantasy, Young Adult'}, 3: {'Title': 'The Great Gatsby', 'Author': 'F. Scott Fitzgerald', 'Years': '1925', 'Genres': 'Fiction, Classics'}, 4: {'Title': '1984', 'Author': 'George Orwell', 'Years': '1949', 'Genres': 'Fiction, Dystopian'}, 5: {'Title': 'The Catcher in the Rye', 'Author': 'J.D. Salinger', 'Years': '1951', 'Genres': 'Fiction, Classics'}, 6: {'Title': 'Pride and Prejudice', 'Author': 'Jane Austen', 'Years': '1813', 'Genres': 'Fiction, Romance, Classics'}, 7: {'Title': 'The Hobbit', 'Author': 'J.R.R. Tolkien', 'Years': '1937', 'Genres': 'Fantasy, Adventure'}, 8: {'Title': 'The Hunger Games', 'Author': 'Suzanne Collins', 'Years': '2008', 'Genres': 'Science Fiction, Dystopian, Young Adult'}, 9: {'Title': 'The Da Vinci Code', 'Author': 'Dan Brown', 'Years': '2003', 'Genres': 'Mystery, Thriller'}, 10: {'Title': 'The Chronicles of Narnia', 'Author': 'C.S. Lewis', 'Years': '1950', 'Genres': \"Fantasy, Children's Literature\"}, 11: {'Title': 'Gone with the Wind', 'Author': 'Margaret Mitchell', 'Years': '1936', 'Genres': 'Historical Fiction, Romance'}, 12: {'Title': 'Sapiens: A Brief History of Humankind', 'Author': 'Yuval Noah Harari', 'Years': '2011', 'Genres': 'Nonfiction, History, Science'}, 13: {'Title': 'The Road', 'Author': 'Cormac McCarthy', 'Years': '2006', 'Genres': 'Fiction, Post-Apocalyptic'}, 14: {'Title': 'The Girl with the Dragon Tattoo', 'Author': 'Stieg Larsson', 'Years': '2005', 'Genres': 'Mystery, Thriller'}, 15: {'Title': 'The Alchemist', 'Author': 'Paulo Coelho', 'Years': '1988', 'Genres': 'Fiction, Inspirational'}}\n"
     ]
    }
   ],
   "source": [
    "def remove_book(book_id):\n",
    "    if book_id in dict_of_book:\n",
    "        del dict_of_book[book_id]\n",
    "    else:\n",
    "        print(f\"Book with ID {book_id} not found.\")\n",
    "\n",
    "inp = int(input(\"Enter the Book ID: \"))  \n",
    "remove_book(inp)\n",
    "\n",
    "print(dict_of_book)"
   ]
  },
  {
   "cell_type": "markdown",
   "metadata": {
    "id": "MIamnChwNgFr"
   },
   "source": [
    "#### Q4: Create a function that displays books information from your library and test it."
   ]
  },
  {
   "cell_type": "code",
   "execution_count": 26,
   "metadata": {
    "id": "xFNIK3YvUbz5"
   },
   "outputs": [
    {
     "name": "stdout",
     "output_type": "stream",
     "text": [
      "Book ID: 1\n",
      "  Title: Harry Potter and the Chamber of Secrets\n",
      "  Author: J.K. Rowling\n",
      "  Years: 1999\n",
      "  Genres: Fantasy, Young Adult\n",
      "\n",
      "Book ID: 3\n",
      "  Title: The Great Gatsby\n",
      "  Author: F. Scott Fitzgerald\n",
      "  Years: 1925\n",
      "  Genres: Fiction, Classics\n",
      "\n",
      "Book ID: 4\n",
      "  Title: 1984\n",
      "  Author: George Orwell\n",
      "  Years: 1949\n",
      "  Genres: Fiction, Dystopian\n",
      "\n",
      "Book ID: 5\n",
      "  Title: The Catcher in the Rye\n",
      "  Author: J.D. Salinger\n",
      "  Years: 1951\n",
      "  Genres: Fiction, Classics\n",
      "\n",
      "Book ID: 6\n",
      "  Title: Pride and Prejudice\n",
      "  Author: Jane Austen\n",
      "  Years: 1813\n",
      "  Genres: Fiction, Romance, Classics\n",
      "\n",
      "Book ID: 7\n",
      "  Title: The Hobbit\n",
      "  Author: J.R.R. Tolkien\n",
      "  Years: 1937\n",
      "  Genres: Fantasy, Adventure\n",
      "\n",
      "Book ID: 8\n",
      "  Title: The Hunger Games\n",
      "  Author: Suzanne Collins\n",
      "  Years: 2008\n",
      "  Genres: Science Fiction, Dystopian, Young Adult\n",
      "\n",
      "Book ID: 9\n",
      "  Title: The Da Vinci Code\n",
      "  Author: Dan Brown\n",
      "  Years: 2003\n",
      "  Genres: Mystery, Thriller\n",
      "\n",
      "Book ID: 10\n",
      "  Title: The Chronicles of Narnia\n",
      "  Author: C.S. Lewis\n",
      "  Years: 1950\n",
      "  Genres: Fantasy, Children's Literature\n",
      "\n",
      "Book ID: 11\n",
      "  Title: Gone with the Wind\n",
      "  Author: Margaret Mitchell\n",
      "  Years: 1936\n",
      "  Genres: Historical Fiction, Romance\n",
      "\n",
      "Book ID: 12\n",
      "  Title: Sapiens: A Brief History of Humankind\n",
      "  Author: Yuval Noah Harari\n",
      "  Years: 2011\n",
      "  Genres: Nonfiction, History, Science\n",
      "\n",
      "Book ID: 13\n",
      "  Title: The Road\n",
      "  Author: Cormac McCarthy\n",
      "  Years: 2006\n",
      "  Genres: Fiction, Post-Apocalyptic\n",
      "\n",
      "Book ID: 14\n",
      "  Title: The Girl with the Dragon Tattoo\n",
      "  Author: Stieg Larsson\n",
      "  Years: 2005\n",
      "  Genres: Mystery, Thriller\n",
      "\n",
      "Book ID: 15\n",
      "  Title: The Alchemist\n",
      "  Author: Paulo Coelho\n",
      "  Years: 1988\n",
      "  Genres: Fiction, Inspirational\n",
      "\n"
     ]
    }
   ],
   "source": [
    "def display_books():\n",
    "         for book_id in dict_of_book:\n",
    "            book_info = dict_of_book[book_id]\n",
    "            print(f\"Book ID: {book_id}\")\n",
    "            print(f\"  Title: {book_info['Title']}\")\n",
    "            print(f\"  Author: {book_info['Author']}\")\n",
    "            print(f\"  Years: {book_info['Years']}\")\n",
    "            print(f\"  Genres: {book_info['Genres']}\")\n",
    "            print()  \n",
    "       \n",
    "\n",
    "display_books()"
   ]
  },
  {
   "cell_type": "markdown",
   "metadata": {
    "id": "OvfdKdBqNt22"
   },
   "source": [
    "#### Q5: Create functions to do the following: calculates and display the total number of books, the average publication year, and the most common genre. and test it."
   ]
  },
  {
   "cell_type": "code",
   "execution_count": 27,
   "metadata": {
    "id": "mWg5eHIWUcsU"
   },
   "outputs": [
    {
     "name": "stdout",
     "output_type": "stream",
     "text": [
      "Total number of books: 14\n",
      "Average publication year: 1962.93\n",
      "Most common genre: Fiction\n"
     ]
    }
   ],
   "source": [
    "def total_books(books):\n",
    "    return len(books)\n",
    "\n",
    "def average_publication_year(books):\n",
    "    years = [int(book['Years']) for book in books.values()]\n",
    "    return sum(years) / len(years)\n",
    "\n",
    "def most_common_genre(books):\n",
    "    all_genres = [genre.strip() for book in books.values() for genre in book['Genres'].split(',')]\n",
    "    return Counter(all_genres).most_common(1)[0][0]\n",
    "\n",
    "def display_book_stats(books):\n",
    "    print(f\"Total number of books: {total_books(books)}\")\n",
    "    print(f\"Average publication year: {average_publication_year(books):.2f}\")\n",
    "    print(f\"Most common genre: {most_common_genre(books)}\")\n",
    "\n",
    "# Test the functions\n",
    "display_book_stats(dict_of_book)"
   ]
  },
  {
   "cell_type": "markdown",
   "metadata": {
    "id": "IuVLtf7dQaUW"
   },
   "source": [
    "#### Q6: Create 2 functions to search for books by the title and the author from your library and test it."
   ]
  },
  {
   "cell_type": "code",
   "execution_count": 28,
   "metadata": {
    "id": "7LnwRJLCUe3p"
   },
   "outputs": [
    {
     "name": "stdout",
     "output_type": "stream",
     "text": [
      "{'Title': '1984', 'Author': 'George Orwell', 'Years': '1949', 'Genres': 'Fiction, Dystopian'}\n"
     ]
    }
   ],
   "source": [
    "def search_by_title(title):\n",
    "    for book_id, book_info in dict_of_book.items():\n",
    "        if book_info[\"Title\"] == title:\n",
    "            return book_info\n",
    "    return None\n",
    "\n",
    "def search_by_author(author):\n",
    "    results = []\n",
    "    for book_id, book_info in dict_of_book.items():\n",
    "        if book_info[\"Author\"] == author:\n",
    "            results.append(book_info)\n",
    "    if results:\n",
    "        return results\n",
    "    else:\n",
    "        return None\n",
    "\n",
    "print(search_by_title(\"1984\"))"
   ]
  },
  {
   "cell_type": "markdown",
   "metadata": {
    "id": "fAu2ozKBQzJu"
   },
   "source": [
    "#### Q7: Create 2 functions to sort the books by the title and the year from your library and test it."
   ]
  },
  {
   "cell_type": "code",
   "execution_count": 29,
   "metadata": {
    "id": "X4PyuHTMUgHl"
   },
   "outputs": [
    {
     "name": "stdout",
     "output_type": "stream",
     "text": [
      "[{'Title': 'Pride and Prejudice', 'Author': 'Jane Austen', 'Years': '1813', 'Genres': 'Fiction, Romance, Classics'}, {'Title': 'The Great Gatsby', 'Author': 'F. Scott Fitzgerald', 'Years': '1925', 'Genres': 'Fiction, Classics'}, {'Title': 'Gone with the Wind', 'Author': 'Margaret Mitchell', 'Years': '1936', 'Genres': 'Historical Fiction, Romance'}, {'Title': 'The Hobbit', 'Author': 'J.R.R. Tolkien', 'Years': '1937', 'Genres': 'Fantasy, Adventure'}, {'Title': '1984', 'Author': 'George Orwell', 'Years': '1949', 'Genres': 'Fiction, Dystopian'}, {'Title': 'The Chronicles of Narnia', 'Author': 'C.S. Lewis', 'Years': '1950', 'Genres': \"Fantasy, Children's Literature\"}, {'Title': 'The Catcher in the Rye', 'Author': 'J.D. Salinger', 'Years': '1951', 'Genres': 'Fiction, Classics'}, {'Title': 'The Alchemist', 'Author': 'Paulo Coelho', 'Years': '1988', 'Genres': 'Fiction, Inspirational'}, {'Title': 'Harry Potter and the Chamber of Secrets', 'Author': 'J.K. Rowling', 'Years': '1999', 'Genres': 'Fantasy, Young Adult'}, {'Title': 'The Da Vinci Code', 'Author': 'Dan Brown', 'Years': '2003', 'Genres': 'Mystery, Thriller'}, {'Title': 'The Girl with the Dragon Tattoo', 'Author': 'Stieg Larsson', 'Years': '2005', 'Genres': 'Mystery, Thriller'}, {'Title': 'The Road', 'Author': 'Cormac McCarthy', 'Years': '2006', 'Genres': 'Fiction, Post-Apocalyptic'}, {'Title': 'The Hunger Games', 'Author': 'Suzanne Collins', 'Years': '2008', 'Genres': 'Science Fiction, Dystopian, Young Adult'}, {'Title': 'Sapiens: A Brief History of Humankind', 'Author': 'Yuval Noah Harari', 'Years': '2011', 'Genres': 'Nonfiction, History, Science'}]\n",
      "[{'Title': '1984', 'Author': 'George Orwell', 'Years': '1949', 'Genres': 'Fiction, Dystopian'}, {'Title': 'Gone with the Wind', 'Author': 'Margaret Mitchell', 'Years': '1936', 'Genres': 'Historical Fiction, Romance'}, {'Title': 'Harry Potter and the Chamber of Secrets', 'Author': 'J.K. Rowling', 'Years': '1999', 'Genres': 'Fantasy, Young Adult'}, {'Title': 'Pride and Prejudice', 'Author': 'Jane Austen', 'Years': '1813', 'Genres': 'Fiction, Romance, Classics'}, {'Title': 'Sapiens: A Brief History of Humankind', 'Author': 'Yuval Noah Harari', 'Years': '2011', 'Genres': 'Nonfiction, History, Science'}, {'Title': 'The Alchemist', 'Author': 'Paulo Coelho', 'Years': '1988', 'Genres': 'Fiction, Inspirational'}, {'Title': 'The Catcher in the Rye', 'Author': 'J.D. Salinger', 'Years': '1951', 'Genres': 'Fiction, Classics'}, {'Title': 'The Chronicles of Narnia', 'Author': 'C.S. Lewis', 'Years': '1950', 'Genres': \"Fantasy, Children's Literature\"}, {'Title': 'The Da Vinci Code', 'Author': 'Dan Brown', 'Years': '2003', 'Genres': 'Mystery, Thriller'}, {'Title': 'The Girl with the Dragon Tattoo', 'Author': 'Stieg Larsson', 'Years': '2005', 'Genres': 'Mystery, Thriller'}, {'Title': 'The Great Gatsby', 'Author': 'F. Scott Fitzgerald', 'Years': '1925', 'Genres': 'Fiction, Classics'}, {'Title': 'The Hobbit', 'Author': 'J.R.R. Tolkien', 'Years': '1937', 'Genres': 'Fantasy, Adventure'}, {'Title': 'The Hunger Games', 'Author': 'Suzanne Collins', 'Years': '2008', 'Genres': 'Science Fiction, Dystopian, Young Adult'}, {'Title': 'The Road', 'Author': 'Cormac McCarthy', 'Years': '2006', 'Genres': 'Fiction, Post-Apocalyptic'}]\n"
     ]
    }
   ],
   "source": [
    "def sort_books_by_title():\n",
    "    sorted_books = sorted(dict_of_book.values(), key=lambda x: x[\"Title\"])\n",
    "    return sorted_books\n",
    "\n",
    "def sort_books_by_year():\n",
    "    sorted_books = sorted(dict_of_book.values(), key=lambda x: x[\"Years\"])\n",
    "    return sorted_books\n",
    "\n",
    "print(sort_books_by_year())\n",
    "print(sort_books_by_title())"
   ]
  },
  {
   "cell_type": "markdown",
   "metadata": {
    "id": "KiaFO8rdiv4u"
   },
   "source": [
    "#### Q8: Create a function to bulk update genres of books using list comprehension. and test it."
   ]
  },
  {
   "cell_type": "code",
   "execution_count": 33,
   "metadata": {
    "id": "AbvXyE96UhVt"
   },
   "outputs": [
    {
     "name": "stdout",
     "output_type": "stream",
     "text": [
      "{1: {'Title': 'Harry Potter and the Chamber of Secrets', 'Author': 'J.K. Rowling', 'Years': '1999', 'Genres': 'Rich Dad Poor Dad'}, 3: {'Title': 'The Great Gatsby', 'Author': 'F. Scott Fitzgerald', 'Years': '1925', 'Genres': 'Rich Dad Poor Dad'}, 4: {'Title': '1984', 'Author': 'George Orwell', 'Years': '1949', 'Genres': 'Rich Dad Poor Dad'}, 5: {'Title': 'The Catcher in the Rye', 'Author': 'J.D. Salinger', 'Years': '1951', 'Genres': 'Rich Dad Poor Dad'}, 6: {'Title': 'Pride and Prejudice', 'Author': 'Jane Austen', 'Years': '1813', 'Genres': 'Rich Dad Poor Dad'}, 7: {'Title': 'The Hobbit', 'Author': 'J.R.R. Tolkien', 'Years': '1937', 'Genres': 'Rich Dad Poor Dad'}, 8: {'Title': 'The Hunger Games', 'Author': 'Suzanne Collins', 'Years': '2008', 'Genres': 'Rich Dad Poor Dad'}, 9: {'Title': 'The Da Vinci Code', 'Author': 'Dan Brown', 'Years': '2003', 'Genres': 'Rich Dad Poor Dad'}, 10: {'Title': 'The Chronicles of Narnia', 'Author': 'C.S. Lewis', 'Years': '1950', 'Genres': 'Rich Dad Poor Dad'}, 11: {'Title': 'Gone with the Wind', 'Author': 'Margaret Mitchell', 'Years': '1936', 'Genres': 'Rich Dad Poor Dad'}, 12: {'Title': 'Sapiens: A Brief History of Humankind', 'Author': 'Yuval Noah Harari', 'Years': '2011', 'Genres': 'Rich Dad Poor Dad'}, 13: {'Title': 'The Road', 'Author': 'Cormac McCarthy', 'Years': '2006', 'Genres': 'Rich Dad Poor Dad'}, 14: {'Title': 'The Girl with the Dragon Tattoo', 'Author': 'Stieg Larsson', 'Years': '2005', 'Genres': 'Rich Dad Poor Dad'}, 15: {'Title': 'The Alchemist', 'Author': 'Paulo Coelho', 'Years': '1988', 'Genres': 'Rich Dad Poor Dad'}}\n"
     ]
    }
   ],
   "source": [
    "def bulk_update_genres(dict_of_book, new_genre):\n",
    "     for book_info in dict_of_book.values():\n",
    "        book_info['Genres'] = new_genre\n",
    "\n",
    "\n",
    "new_genre = \"Rich Dad Poor Dad\"\n",
    "bulk_update_genres(dict_of_book, new_genre)\n",
    "print(dict_of_book)"
   ]
  },
  {
   "cell_type": "markdown",
   "metadata": {
    "id": "ZWkmOUNgi6V_"
   },
   "source": [
    "#### Q9: Implement a function to generate a report summarizing the library's statistics, including the total number of books, the number of books by each author, the number of books in each genre, and the oldest and newest books. and test it."
   ]
  },
  {
   "cell_type": "code",
   "execution_count": 35,
   "metadata": {
    "id": "Okjlb9pTUloe"
   },
   "outputs": [
    {
     "name": "stdout",
     "output_type": "stream",
     "text": [
      "Library Report:\n",
      "Total number of books: 14\n",
      "Number of books by each author:\n",
      "  J.K. Rowling: 1\n",
      "  F. Scott Fitzgerald: 1\n",
      "  George Orwell: 1\n",
      "  J.D. Salinger: 1\n",
      "  Jane Austen: 1\n",
      "  J.R.R. Tolkien: 1\n",
      "  Suzanne Collins: 1\n",
      "  Dan Brown: 1\n",
      "  C.S. Lewis: 1\n",
      "  Margaret Mitchell: 1\n",
      "  Yuval Noah Harari: 1\n",
      "  Cormac McCarthy: 1\n",
      "  Stieg Larsson: 1\n",
      "  Paulo Coelho: 1\n",
      "Number of books in each genre:\n",
      "  Rich Dad Poor Dad: 14\n",
      "Oldest book: {'Title': 'Pride and Prejudice', 'Author': 'Jane Austen', 'Years': '1813', 'Genres': 'Rich Dad Poor Dad'}\n",
      "Newest book: {'Title': 'Sapiens: A Brief History of Humankind', 'Author': 'Yuval Noah Harari', 'Years': '2011', 'Genres': 'Rich Dad Poor Dad'}\n"
     ]
    }
   ],
   "source": [
    "def generate_report():\n",
    "    from collections import Counter\n",
    "\n",
    "    total_books = len(dict_of_book)\n",
    "\n",
    "    # Count books by each author\n",
    "    author_count = Counter(book[\"Author\"] for book in dict_of_book.values())\n",
    "\n",
    "    # Count books in each genre\n",
    "    genre_count = Counter(genre for book in dict_of_book.values() for genre in book[\"Genres\"].split(', '))\n",
    "\n",
    "    # Find the oldest and newest books\n",
    "    oldest_book = min(dict_of_book.values(), key=lambda x: int(x[\"Years\"]))\n",
    "    newest_book = max(dict_of_book.values(), key=lambda x: int(x[\"Years\"]))\n",
    "\n",
    "    report = {\n",
    "        \"Total Books\": total_books,\n",
    "        \"Books by Author\": author_count,\n",
    "        \"Books by Genre\": genre_count,\n",
    "        \"Oldest Book\": oldest_book,\n",
    "        \"Newest Book\": newest_book\n",
    "    }\n",
    "\n",
    "    return report\n",
    "\n",
    "# Testing the function\n",
    "report = generate_report()\n",
    "print(\"Library Report:\")\n",
    "print(\"Total number of books:\", report[\"Total Books\"])\n",
    "print(\"Number of books by each author:\")\n",
    "for author, count in report[\"Books by Author\"].items():\n",
    "    print(f\"  {author}: {count}\")\n",
    "print(\"Number of books in each genre:\")\n",
    "for genre, count in report[\"Books by Genre\"].items():\n",
    "    print(f\"  {genre}: {count}\")\n",
    "print(\"Oldest book:\", report[\"Oldest Book\"])\n",
    "print(\"Newest book:\", report[\"Newest Book\"])"
   ]
  }
 ],
 "metadata": {
  "colab": {
   "provenance": []
  },
  "kernelspec": {
   "display_name": "Python 3 (ipykernel)",
   "language": "python",
   "name": "python3"
  },
  "language_info": {
   "codemirror_mode": {
    "name": "ipython",
    "version": 3
   },
   "file_extension": ".py",
   "mimetype": "text/x-python",
   "name": "python",
   "nbconvert_exporter": "python",
   "pygments_lexer": "ipython3",
   "version": "3.10.9"
  }
 },
 "nbformat": 4,
 "nbformat_minor": 1
}
